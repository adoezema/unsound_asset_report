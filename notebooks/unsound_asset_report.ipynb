{
 "metadata": {
  "orig_nbformat": 2,
  "kernelspec": {
   "name": "python3",
   "display_name": "Python 3",
   "language": "python"
  }
 },
 "nbformat": 4,
 "nbformat_minor": 2,
 "cells": [
  {
   "source": [
    "import pandas as pd\n",
    "from arcgis.gis import GIS\n",
    "from arcgis.features import GeoAccessor, GeoSeriesAccessor"
   ],
   "cell_type": "code",
   "metadata": {},
   "execution_count": 1,
   "outputs": []
  },
  {
   "cell_type": "code",
   "execution_count": 2,
   "metadata": {},
   "outputs": [
    {
     "output_type": "stream",
     "name": "stdout",
     "text": [
      "adoezema\n"
     ]
    }
   ],
   "source": [
    "agol = GIS(profile='adoezema_AGO')\n",
    "print(agol.users.me.username)"
   ]
  },
  {
   "cell_type": "code",
   "execution_count": 3,
   "metadata": {},
   "outputs": [],
   "source": [
    "field_data = agol.content.get(itemid='3b9b6fda7d864e3bb804a7bbcd82f702')"
   ]
  },
  {
   "source": [
    "Query unsound records from data"
   ],
   "cell_type": "markdown",
   "metadata": {}
  },
  {
   "cell_type": "code",
   "execution_count": 45,
   "metadata": {},
   "outputs": [],
   "source": [
    "def get_unsound_records(lyr):\n",
    "    keep_fields = ('GlobalID', 'FACILITYID', 'CIPMOID', 'CONDITION', 'OHMComment', 'OHM_Status',  'last_edited_date', 'last_edited_user','SHAPE')\n",
    "    lyr_name = lyr.properties.name\n",
    "    df = lyr.query(where=\"CONDITION<>'Sound'\", out_fields=keep_fields, as_df=True)\n",
    "    df['Layer'] = lyr_name\n",
    "    return df"
   ]
  },
  {
   "cell_type": "code",
   "execution_count": 58,
   "metadata": {},
   "outputs": [],
   "source": [
    "dfs = []\n",
    "for lyr in field_data.layers:\n",
    "    lyr_name = lyr.properties.name\n",
    "    if lyr_name not in ('Miscellaneous Point', 'Neighborhoods'):\n",
    "        df = get_unsound_records(lyr)\n",
    "        dfs.append(df)\n",
    "unsound_df  = dfs[0].append(dfs[1:])"
   ]
  },
  {
   "cell_type": "code",
   "execution_count": null,
   "metadata": {},
   "outputs": [],
   "source": []
  }
 ]
}