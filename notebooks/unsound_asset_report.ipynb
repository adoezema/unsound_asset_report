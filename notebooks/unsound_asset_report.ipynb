{
 "metadata": {
  "orig_nbformat": 2,
  "kernelspec": {
   "name": "python3",
   "display_name": "Python 3",
   "language": "python"
  }
 },
 "nbformat": 4,
 "nbformat_minor": 2,
 "cells": [
  {
   "source": [
    "import json\n",
    "import pandas as pd\n",
    "from arcgis.gis import GIS\n",
    "from arcgis.features import GeoAccessor, GeoSeriesAccessor"
   ],
   "cell_type": "code",
   "metadata": {},
   "execution_count": null,
   "outputs": []
  },
  {
   "cell_type": "code",
   "execution_count": null,
   "metadata": {},
   "outputs": [],
   "source": [
    "agol = GIS(profile='adoezema_AGO')\n",
    "print(agol.users.me.username)"
   ]
  },
  {
   "cell_type": "code",
   "execution_count": null,
   "metadata": {},
   "outputs": [],
   "source": [
    "field_data = agol.content.get(itemid='3b9b6fda7d864e3bb804a7bbcd82f702')"
   ]
  },
  {
   "source": [
    "Functions"
   ],
   "cell_type": "markdown",
   "metadata": {}
  },
  {
   "cell_type": "code",
   "execution_count": null,
   "metadata": {},
   "outputs": [],
   "source": [
    "def get_unsound_records(lyr):\n",
    "    #TODO: Query by todays date\n",
    "    keep_fields = ('GlobalID', 'FACILITYID', 'CIPMOID', 'CONDITION', 'OHMComment', 'OHM_Status',  'last_edited_date', 'last_edited_user','SHAPE')\n",
    "    lyr.query(where=\"CONDITION<>'Sound'\", out_fields=keep_fields)\n",
    "    return lyr.query(where=\"CONDITION<>'Sound'\", out_fields=keep_fields)"
   ]
  },
  {
   "cell_type": "code",
   "execution_count": null,
   "metadata": {},
   "outputs": [],
   "source": [
    "    def transform_attachment_df(attachment_df):\n",
    "        url_df = pd.DataFrame(attachment_df.groupby('PARENTGLOBALID')['IMAGE_PREVIEW'].\n",
    "                              apply(lambda x: ', '.join(x).split(', ')))\n",
    "        photo_series = url_df.IMAGE_PREVIEW.apply(lambda x: len(x))\n",
    "        photo_field_names = {i: f'Photo {i+1}' for i in range(photo_series.max())}\n",
    "        url_df = pd.DataFrame(url_df.IMAGE_PREVIEW.apply(pd.Series))\n",
    "        url_df.reset_index(inplace=True)\n",
    "        url_df.rename(columns=photo_field_names, inplace=True)\n",
    "        return url_df"
   ]
  },
  {
   "source": [
    "Main flow control"
   ],
   "cell_type": "markdown",
   "metadata": {}
  },
  {
   "cell_type": "code",
   "execution_count": null,
   "metadata": {},
   "outputs": [],
   "source": [
    "from IPython.core.display import HTML"
   ]
  },
  {
   "cell_type": "code",
   "execution_count": null,
   "metadata": {},
   "outputs": [],
   "source": [
    "\n",
    "for lyr in field_data.layers:\n",
    "    lyr_name = lyr.properties.name\n",
    "    if lyr_name not in ('Miscellaneous Point', 'Neighborhoods'):\n",
    "        data = get_unsound_records(lyr).sdf\n",
    "        data.insert(loc=0, column='Layer Name', value=lyr_name)\n",
    "        data['OHM_Status'].replace({'1': 'Incomplete', '2': 'Surveyed', '3': 'Attemped', '4': 'Delivered'}, inplace=True)\n",
    "        #TODO: Move Photo processing to function\n",
    "        photo_collection = []\n",
    "        for index, row in data.iterrows():\n",
    "            photo = lyr.attachments.search(global_ids=row['GlobalID'], attachment_types=['image/jpeg','image/jpg'])\n",
    "            if photo:\n",
    "                photo = transform_attachment_df(pd.DataFrame(photo)).to_dict('records')[0]\n",
    "                photo_collection.append(photo)\n",
    "        photo_df = pd.DataFrame(photo_collection)\n",
    "        result = pd.merge(data, photo_df, how='outer', left_on=['GlobalID'], right_on=['PARENTGLOBALID'])\n",
    "        result.drop('SHAPE', axis=1, inplace=True)\n",
    "    #TODO Combine individual Layers into one dataframe"
   ]
  },
  {
   "cell_type": "code",
   "execution_count": null,
   "metadata": {},
   "outputs": [],
   "source": [
    "HTML(result.to_html(escape=False))"
   ]
  }
 ]
}